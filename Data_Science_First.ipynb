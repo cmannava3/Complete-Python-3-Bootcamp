{
  "nbformat": 4,
  "nbformat_minor": 0,
  "metadata": {
    "colab": {
      "name": "Data_Science_First.ipynb",
      "version": "0.3.2",
      "provenance": [],
      "collapsed_sections": [],
      "include_colab_link": true
    },
    "kernelspec": {
      "name": "python3",
      "display_name": "Python 3"
    }
  },
  "cells": [
    {
      "cell_type": "markdown",
      "metadata": {
        "id": "view-in-github",
        "colab_type": "text"
      },
      "source": [
        "<a href=\"https://colab.research.google.com/github/cmannava3/Complete-Python-3-Bootcamp/blob/master/Data_Science_First.ipynb\" target=\"_parent\"><img src=\"https://colab.research.google.com/assets/colab-badge.svg\" alt=\"Open In Colab\"/></a>"
      ]
    },
    {
      "metadata": {
        "id": "BrOtHiSzY2Eg",
        "colab_type": "code",
        "outputId": "bad821c8-822e-42fd-865c-1599cc12cc06",
        "colab": {
          "base_uri": "https://localhost:8080/",
          "height": 36
        }
      },
      "cell_type": "code",
      "source": [
        "print(\"Hello World\")"
      ],
      "execution_count": 0,
      "outputs": [
        {
          "output_type": "stream",
          "text": [
            "Hello World\n"
          ],
          "name": "stdout"
        }
      ]
    },
    {
      "metadata": {
        "id": "HqyjK3pRavZa",
        "colab_type": "code",
        "outputId": "6b325817-d47b-4550-f081-afab4e8da09e",
        "colab": {
          "base_uri": "https://localhost:8080/",
          "height": 36
        }
      },
      "cell_type": "code",
      "source": [
        "kohli=100\n",
        "kohli"
      ],
      "execution_count": 0,
      "outputs": [
        {
          "output_type": "execute_result",
          "data": {
            "text/plain": [
              "100"
            ]
          },
          "metadata": {
            "tags": []
          },
          "execution_count": 8
        }
      ]
    },
    {
      "metadata": {
        "id": "LlgsFyuweOkQ",
        "colab_type": "code",
        "outputId": "fdea3609-970f-4ba6-e6b3-f5acf02d9f2f",
        "colab": {
          "base_uri": "https://localhost:8080/",
          "height": 36
        }
      },
      "cell_type": "code",
      "source": [
        "x=3\n",
        "type(x)"
      ],
      "execution_count": 0,
      "outputs": [
        {
          "output_type": "execute_result",
          "data": {
            "text/plain": [
              "int"
            ]
          },
          "metadata": {
            "tags": []
          },
          "execution_count": 9
        }
      ]
    },
    {
      "metadata": {
        "id": "0IPfT7XreTbm",
        "colab_type": "code",
        "outputId": "f7f8eae8-4f03-4620-f4f2-d224cb7c9366",
        "colab": {
          "base_uri": "https://localhost:8080/",
          "height": 36
        }
      },
      "cell_type": "code",
      "source": [
        "a='s'\n",
        "type(a)"
      ],
      "execution_count": 0,
      "outputs": [
        {
          "output_type": "execute_result",
          "data": {
            "text/plain": [
              "str"
            ]
          },
          "metadata": {
            "tags": []
          },
          "execution_count": 10
        }
      ]
    },
    {
      "metadata": {
        "id": "oGZvpLaHeiV4",
        "colab_type": "code",
        "outputId": "d1cfdd0c-57f0-4546-9728-8fdc7f618bef",
        "colab": {
          "base_uri": "https://localhost:8080/",
          "height": 73
        }
      },
      "cell_type": "code",
      "source": [
        "import sys\n",
        "var1='chakri'\n",
        "print(type(var1))\n",
        "var1\n",
        "print(sys.version)"
      ],
      "execution_count": 0,
      "outputs": [
        {
          "output_type": "stream",
          "text": [
            "<class 'str'>\n",
            "3.6.7 (default, Oct 22 2018, 11:32:17) \n",
            "[GCC 8.2.0]\n"
          ],
          "name": "stdout"
        }
      ]
    },
    {
      "metadata": {
        "id": "YPNyDqiZkZvC",
        "colab_type": "code",
        "outputId": "ba45144a-00ac-4aab-aa9d-b41c512c152e",
        "colab": {
          "base_uri": "https://localhost:8080/",
          "height": 36
        }
      },
      "cell_type": "code",
      "source": [
        "first_list=(101,'smith','smith',23.6,None,11,'jack')\n",
        "first_list\n"
      ],
      "execution_count": 0,
      "outputs": [
        {
          "output_type": "execute_result",
          "data": {
            "text/plain": [
              "101"
            ]
          },
          "metadata": {
            "tags": []
          },
          "execution_count": 21
        }
      ]
    },
    {
      "metadata": {
        "id": "G1olgAdKksBb",
        "colab_type": "code",
        "outputId": "ac833dec-a3a5-43cb-9e6d-878e88c256dd",
        "colab": {
          "base_uri": "https://localhost:8080/",
          "height": 110
        }
      },
      "cell_type": "code",
      "source": [
        "print(first_list[0])\n",
        "print(first_list[1:3])\n",
        "print(first_list[1:-1])\n",
        "print(first_list[::-1])\n",
        "print(first_list[2::-1])"
      ],
      "execution_count": 0,
      "outputs": [
        {
          "output_type": "stream",
          "text": [
            "101\n",
            "('smith', 'smith')\n",
            "('smith', 'smith', 23.6, None, 11)\n",
            "('jack', 11, None, 23.6, 'smith', 'smith', 101)\n",
            "('smith', 'smith', 101)\n"
          ],
          "name": "stdout"
        }
      ]
    },
    {
      "metadata": {
        "id": "rAsY_hOllYME",
        "colab_type": "code",
        "outputId": "b59ae899-024f-422f-d49c-8c330d7b9ac9",
        "colab": {
          "base_uri": "https://localhost:8080/",
          "height": 147
        }
      },
      "cell_type": "code",
      "source": [
        "garbled = \"!XeXgXaXsXsXeXmX XtXeXrXcXeXsX XeXhXtX XmXaX XI\"\n",
        "print (len(garbled))\n",
        "print(garbled[::-2])\n",
        "print (garbled[::-2])\n",
        "\n",
        "garbled = \"!1e2g3a4s5s6e7m8 9t@e#r$c%e^s& *e(h)t- +m~a, .I\"\n",
        "print(garbled)\n",
        "print(garbled[::-1])\n",
        "print (garbled[::-2])\n",
        "print(garbled[::-3])"
      ],
      "execution_count": 0,
      "outputs": [
        {
          "output_type": "stream",
          "text": [
            "47\n",
            "I am the secret message!\n",
            "I am the secret message!\n",
            "!1e2g3a4s5s6e7m8 9t@e#r$c%e^s& *e(h)t- +m~a, .I\n",
            "I. ,a~m+ -t)h(e* &s^e%c$r#e@t9 8m7e6s5s4a3g2e1!\n",
            "I am the secret message!\n",
            "I,m-h*s%r@ 7s4g1\n"
          ],
          "name": "stdout"
        }
      ]
    }
  ]
}