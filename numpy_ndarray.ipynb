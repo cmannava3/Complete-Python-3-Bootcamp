{
  "nbformat": 4,
  "nbformat_minor": 0,
  "metadata": {
    "colab": {
      "name": "numpy_ndarray.ipynb",
      "version": "0.3.2",
      "provenance": [],
      "collapsed_sections": [],
      "include_colab_link": true
    },
    "kernelspec": {
      "name": "python3",
      "display_name": "Python 3"
    }
  },
  "cells": [
    {
      "cell_type": "markdown",
      "metadata": {
        "id": "view-in-github",
        "colab_type": "text"
      },
      "source": [
        "<a href=\"https://colab.research.google.com/github/cmannava3/Complete-Python-3-Bootcamp/blob/master/numpy_ndarray.ipynb\" target=\"_parent\"><img src=\"https://colab.research.google.com/assets/colab-badge.svg\" alt=\"Open In Colab\"/></a>"
      ]
    },
    {
      "metadata": {
        "id": "gv_yk4CeVDIy",
        "colab_type": "text"
      },
      "cell_type": "markdown",
      "source": [
        "This is a python notebook to work and understand with numpy arrays\n",
        "Numpy- Numerical Python supports multidimensional arrays over which you cna easily apply math operations."
      ]
    },
    {
      "metadata": {
        "id": "_QLXmlKdVVid",
        "colab_type": "code",
        "colab": {}
      },
      "cell_type": "code",
      "source": [
        "import numpy as np"
      ],
      "execution_count": 0,
      "outputs": []
    },
    {
      "metadata": {
        "id": "YV4tiVETVeC5",
        "colab_type": "code",
        "colab": {
          "base_uri": "https://localhost:8080/",
          "height": 54
        },
        "outputId": "03c66726-cd26-4bc0-97cd-ba6b00d89a6a"
      },
      "cell_type": "code",
      "source": [
        "distance = [10,15,17,26] #this is a list\n",
        "time=[0.1,0.2,0.5,0.9] # this is a list which holds time.\n",
        "\n",
        "print(type(distance))\n",
        "print(type(time))"
      ],
      "execution_count": 6,
      "outputs": [
        {
          "output_type": "stream",
          "text": [
            "<class 'list'>\n",
            "<class 'list'>\n"
          ],
          "name": "stdout"
        }
      ]
    },
    {
      "metadata": {
        "id": "1tInCFOCV87L",
        "colab_type": "code",
        "colab": {
          "base_uri": "https://localhost:8080/",
          "height": 54
        },
        "outputId": "7fbba834-4872-4d89-8a64-974a1d3b051e"
      },
      "cell_type": "code",
      "source": [
        "#Now lets convert these lists to numpy arrays.\n",
        "np_distance=np.array(distance)\n",
        "np_time=np.array(time)\n",
        "print(type(np_distance))\n",
        "print(type(np_time))\n"
      ],
      "execution_count": 8,
      "outputs": [
        {
          "output_type": "stream",
          "text": [
            "<class 'numpy.ndarray'>\n",
            "<class 'numpy.ndarray'>\n"
          ],
          "name": "stdout"
        }
      ]
    },
    {
      "metadata": {
        "id": "MRERlT6aXNcd",
        "colab_type": "code",
        "colab": {
          "base_uri": "https://localhost:8080/",
          "height": 36
        },
        "outputId": "557310d9-d6d5-404a-ce15-1a86a874b77e"
      },
      "cell_type": "code",
      "source": [
        "speed=np_time/np_distance\n",
        "print(speed)"
      ],
      "execution_count": 10,
      "outputs": [
        {
          "output_type": "stream",
          "text": [
            "[0.01       0.01333333 0.02941176 0.03461538]\n"
          ],
          "name": "stdout"
        }
      ]
    },
    {
      "metadata": {
        "id": "JqElfY88XLq3",
        "colab_type": "code",
        "colab": {
          "base_uri": "https://localhost:8080/",
          "height": 36
        },
        "outputId": "3322fa71-4c27-45fb-d897-38534b7cc82a"
      },
      "cell_type": "code",
      "source": [
        "#linspace command - prints 7 intervals(equal spaced intervals) between 4 and 13(including)\n",
        "print( np.linspace(4,13,7))"
      ],
      "execution_count": 17,
      "outputs": [
        {
          "output_type": "stream",
          "text": [
            "[ 4.   5.5  7.   8.5 10.  11.5 13. ]\n"
          ],
          "name": "stdout"
        }
      ]
    },
    {
      "metadata": {
        "id": "U3HVvdf3YB1z",
        "colab_type": "code",
        "colab": {
          "base_uri": "https://localhost:8080/",
          "height": 36
        },
        "outputId": "ec4c5c49-1c64-4106-b8a1-72da10229a11"
      },
      "cell_type": "code",
      "source": [
        "#linspace command - prints 3 intervals(equal spaced intervals) between 4 and 13(including)\n",
        "print( np.linspace(4,13,4))"
      ],
      "execution_count": 19,
      "outputs": [
        {
          "output_type": "stream",
          "text": [
            "[ 4.  7. 10. 13.]\n"
          ],
          "name": "stdout"
        }
      ]
    },
    {
      "metadata": {
        "id": "lw5dj1McYVd9",
        "colab_type": "code",
        "colab": {
          "base_uri": "https://localhost:8080/",
          "height": 110
        },
        "outputId": "ce0243e0-c22c-4862-b246-451f12f69896"
      },
      "cell_type": "code",
      "source": [
        "#Attributes of ndarray \n",
        "#ndim\n",
        "np_city=np.array(['NYC','LA','Miami','Houston'])\n",
        "print(np_city)\n",
        "print(np_city.ndim)  #it is one dimensional array so it gives 1\n",
        "\n",
        "np_city_withstate=np.array([['NYC','LA','Miami','Houston'],['NY','CA','FL','TX']])\n",
        "print(np_city_withstate) \n",
        "print(np_city_withstate.ndim ) #it is 2 dimensional array so it gives 2."
      ],
      "execution_count": 30,
      "outputs": [
        {
          "output_type": "stream",
          "text": [
            "['NYC' 'LA' 'Miami' 'Houston']\n",
            "1\n",
            "[['NYC' 'LA' 'Miami' 'Houston']\n",
            " ['NY' 'CA' 'FL' 'TX']]\n",
            "2\n"
          ],
          "name": "stdout"
        }
      ]
    },
    {
      "metadata": {
        "id": "kGZ-_tX4Ze6o",
        "colab_type": "code",
        "colab": {
          "base_uri": "https://localhost:8080/",
          "height": 54
        },
        "outputId": "1a9ab42b-df1a-407a-d689-c7ce505b66c4"
      },
      "cell_type": "code",
      "source": [
        "#Attributes of ndarray \n",
        "#Shape\n",
        "print(np_city.shape)#prints ((4,)- because 4 rows and 1 columns)\n",
        "print(np_city_withstate.shape) #prints ((2,4)- because 2 rows and 4 columns)\n"
      ],
      "execution_count": 32,
      "outputs": [
        {
          "output_type": "stream",
          "text": [
            "(4,)\n",
            "(2, 4)\n"
          ],
          "name": "stdout"
        }
      ]
    },
    {
      "metadata": {
        "id": "qOqmJGEFafen",
        "colab_type": "code",
        "colab": {
          "base_uri": "https://localhost:8080/",
          "height": 54
        },
        "outputId": "9b1e49b5-d9de-4434-f3e2-54fc63e2c334"
      },
      "cell_type": "code",
      "source": [
        "#Attributes of ndarray \n",
        "#size\n",
        "print(np_city.size)#prints 4- because 4 elements are present in that array.\n",
        "print(np_city_withstate.size) #prints 8 because there are 8 elements.\n"
      ],
      "execution_count": 33,
      "outputs": [
        {
          "output_type": "stream",
          "text": [
            "4\n",
            "8\n"
          ],
          "name": "stdout"
        }
      ]
    },
    {
      "metadata": {
        "id": "gehOTko4aztX",
        "colab_type": "code",
        "colab": {
          "base_uri": "https://localhost:8080/",
          "height": 54
        },
        "outputId": "73d910b9-93d2-42ab-f407-48cac40a6c02"
      },
      "cell_type": "code",
      "source": [
        "#Attributes of ndarray \n",
        "#dtype\n",
        "print(np_city.dtype)#prints <U7 as \n",
        "print(np_city_withstate.dtype) #prints 8 because there are 8 elements.\n"
      ],
      "execution_count": 34,
      "outputs": [
        {
          "output_type": "stream",
          "text": [
            "<U7\n",
            "<U7\n"
          ],
          "name": "stdout"
        }
      ]
    }
  ]
}